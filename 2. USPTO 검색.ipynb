{
 "cells": [
  {
   "cell_type": "markdown",
   "metadata": {},
   "source": [
    "# 파일 열기"
   ]
  },
  {
   "cell_type": "code",
   "execution_count": 1,
   "metadata": {},
   "outputs": [],
   "source": [
    "import pandas as pd\n",
    "dataset = pd.read_csv('./data/dataset.csv')"
   ]
  },
  {
   "cell_type": "code",
   "execution_count": 2,
   "metadata": {},
   "outputs": [
    {
     "data": {
      "text/html": [
       "<div>\n",
       "<style scoped>\n",
       "    .dataframe tbody tr th:only-of-type {\n",
       "        vertical-align: middle;\n",
       "    }\n",
       "\n",
       "    .dataframe tbody tr th {\n",
       "        vertical-align: top;\n",
       "    }\n",
       "\n",
       "    .dataframe thead th {\n",
       "        text-align: right;\n",
       "    }\n",
       "</style>\n",
       "<table border=\"1\" class=\"dataframe\">\n",
       "  <thead>\n",
       "    <tr style=\"text-align: right;\">\n",
       "      <th></th>\n",
       "      <th>Unnamed: 0</th>\n",
       "      <th>patent_id</th>\n",
       "      <th>date</th>\n",
       "      <th>abstract</th>\n",
       "      <th>title</th>\n",
       "      <th>cpc_list</th>\n",
       "    </tr>\n",
       "  </thead>\n",
       "  <tbody>\n",
       "    <tr>\n",
       "      <th>0</th>\n",
       "      <td>0</td>\n",
       "      <td>10000000</td>\n",
       "      <td>2018-06-19</td>\n",
       "      <td>A frequency modulated (coherent) laser detecti...</td>\n",
       "      <td>Coherent LADAR using intra-pixel quadrature de...</td>\n",
       "      <td>['G01S17', 'G01S7']</td>\n",
       "    </tr>\n",
       "    <tr>\n",
       "      <th>1</th>\n",
       "      <td>1</td>\n",
       "      <td>10000001</td>\n",
       "      <td>2018-06-19</td>\n",
       "      <td>The injection molding machine includes a fixed...</td>\n",
       "      <td>Injection molding machine and mold thickness c...</td>\n",
       "      <td>['B29C45', 'G05B2219', 'B29C2945', 'G05B19']</td>\n",
       "    </tr>\n",
       "    <tr>\n",
       "      <th>2</th>\n",
       "      <td>2</td>\n",
       "      <td>10000002</td>\n",
       "      <td>2018-06-19</td>\n",
       "      <td>The present invention relates to: a method for...</td>\n",
       "      <td>Method for manufacturing polymer film and co-e...</td>\n",
       "      <td>['B29D2030', 'B32B2274', 'B32B2475', 'B32B27',...</td>\n",
       "    </tr>\n",
       "    <tr>\n",
       "      <th>3</th>\n",
       "      <td>3</td>\n",
       "      <td>10000003</td>\n",
       "      <td>2018-06-19</td>\n",
       "      <td>The invention relates to a method for producin...</td>\n",
       "      <td>Method for producing a container from a thermo...</td>\n",
       "      <td>['B29D22', 'B29K2101', 'B29C2049', 'B29C49', '...</td>\n",
       "    </tr>\n",
       "    <tr>\n",
       "      <th>4</th>\n",
       "      <td>4</td>\n",
       "      <td>10000004</td>\n",
       "      <td>2018-06-19</td>\n",
       "      <td>The present invention relates to provides a do...</td>\n",
       "      <td>Process of obtaining a double-oriented film, c...</td>\n",
       "      <td>['B29C51', 'B29L2031', 'B29K2105', 'B29K2995',...</td>\n",
       "    </tr>\n",
       "  </tbody>\n",
       "</table>\n",
       "</div>"
      ],
      "text/plain": [
       "   Unnamed: 0  patent_id        date  \\\n",
       "0           0   10000000  2018-06-19   \n",
       "1           1   10000001  2018-06-19   \n",
       "2           2   10000002  2018-06-19   \n",
       "3           3   10000003  2018-06-19   \n",
       "4           4   10000004  2018-06-19   \n",
       "\n",
       "                                            abstract  \\\n",
       "0  A frequency modulated (coherent) laser detecti...   \n",
       "1  The injection molding machine includes a fixed...   \n",
       "2  The present invention relates to: a method for...   \n",
       "3  The invention relates to a method for producin...   \n",
       "4  The present invention relates to provides a do...   \n",
       "\n",
       "                                               title  \\\n",
       "0  Coherent LADAR using intra-pixel quadrature de...   \n",
       "1  Injection molding machine and mold thickness c...   \n",
       "2  Method for manufacturing polymer film and co-e...   \n",
       "3  Method for producing a container from a thermo...   \n",
       "4  Process of obtaining a double-oriented film, c...   \n",
       "\n",
       "                                            cpc_list  \n",
       "0                                ['G01S17', 'G01S7']  \n",
       "1       ['B29C45', 'G05B2219', 'B29C2945', 'G05B19']  \n",
       "2  ['B29D2030', 'B32B2274', 'B32B2475', 'B32B27',...  \n",
       "3  ['B29D22', 'B29K2101', 'B29C2049', 'B29C49', '...  \n",
       "4  ['B29C51', 'B29L2031', 'B29K2105', 'B29K2995',...  "
      ]
     },
     "execution_count": 2,
     "metadata": {},
     "output_type": "execute_result"
    }
   ],
   "source": [
    "dataset.head()"
   ]
  },
  {
   "cell_type": "markdown",
   "metadata": {},
   "source": [
    "# title 검색"
   ]
  },
  {
   "cell_type": "code",
   "execution_count": 3,
   "metadata": {},
   "outputs": [],
   "source": [
    "find_set=dataset[dataset['title'].str.contains('call center')]"
   ]
  },
  {
   "cell_type": "code",
   "execution_count": 4,
   "metadata": {},
   "outputs": [
    {
     "data": {
      "text/plain": [
       "556"
      ]
     },
     "execution_count": 4,
     "metadata": {},
     "output_type": "execute_result"
    }
   ],
   "source": [
    "len(find_set)"
   ]
  },
  {
   "cell_type": "code",
   "execution_count": 5,
   "metadata": {},
   "outputs": [],
   "source": [
    "find_set=find_set.reset_index()"
   ]
  },
  {
   "cell_type": "code",
   "execution_count": 6,
   "metadata": {},
   "outputs": [],
   "source": [
    "del find_set['Unnamed: 0']\n",
    "del find_set['index']"
   ]
  },
  {
   "cell_type": "code",
   "execution_count": 7,
   "metadata": {
    "scrolled": true
   },
   "outputs": [
    {
     "data": {
      "text/html": [
       "<div>\n",
       "<style scoped>\n",
       "    .dataframe tbody tr th:only-of-type {\n",
       "        vertical-align: middle;\n",
       "    }\n",
       "\n",
       "    .dataframe tbody tr th {\n",
       "        vertical-align: top;\n",
       "    }\n",
       "\n",
       "    .dataframe thead th {\n",
       "        text-align: right;\n",
       "    }\n",
       "</style>\n",
       "<table border=\"1\" class=\"dataframe\">\n",
       "  <thead>\n",
       "    <tr style=\"text-align: right;\">\n",
       "      <th></th>\n",
       "      <th>patent_id</th>\n",
       "      <th>date</th>\n",
       "      <th>abstract</th>\n",
       "      <th>title</th>\n",
       "      <th>cpc_list</th>\n",
       "    </tr>\n",
       "  </thead>\n",
       "  <tbody>\n",
       "    <tr>\n",
       "      <th>0</th>\n",
       "      <td>10027804</td>\n",
       "      <td>2018-07-17</td>\n",
       "      <td>A system and method for providing hiring recom...</td>\n",
       "      <td>System and method for providing hiring recomme...</td>\n",
       "      <td>['G10L15', 'G10L17', 'H04M2201', 'H04M3', 'H04...</td>\n",
       "    </tr>\n",
       "    <tr>\n",
       "      <th>1</th>\n",
       "      <td>10038785</td>\n",
       "      <td>2018-07-31</td>\n",
       "      <td>A system for recognizing processes performed b...</td>\n",
       "      <td>Methods and systems for automatically recogniz...</td>\n",
       "      <td>['H04M2201', 'G06K9', 'H04M3', 'G06K2209', 'G1...</td>\n",
       "    </tr>\n",
       "    <tr>\n",
       "      <th>2</th>\n",
       "      <td>10051125</td>\n",
       "      <td>2018-08-14</td>\n",
       "      <td>Techniques for benchmarking performance in a c...</td>\n",
       "      <td>Selective mapping of callers in a call center ...</td>\n",
       "      <td>['H04M3', 'H04M2201']</td>\n",
       "    </tr>\n",
       "    <tr>\n",
       "      <th>3</th>\n",
       "      <td>10057422</td>\n",
       "      <td>2018-08-21</td>\n",
       "      <td>Techniques for handling contacts and agents in...</td>\n",
       "      <td>Selective mapping of callers in a call center ...</td>\n",
       "      <td>['H04M3', 'H04M2201']</td>\n",
       "    </tr>\n",
       "    <tr>\n",
       "      <th>4</th>\n",
       "      <td>10063705</td>\n",
       "      <td>2018-08-28</td>\n",
       "      <td>Systems and methods of routing calls may inclu...</td>\n",
       "      <td>Systems and methods for selectively routing ca...</td>\n",
       "      <td>['H04M3', 'H04M2201', 'H04M2203']</td>\n",
       "    </tr>\n",
       "  </tbody>\n",
       "</table>\n",
       "</div>"
      ],
      "text/plain": [
       "   patent_id        date                                           abstract  \\\n",
       "0   10027804  2018-07-17  A system and method for providing hiring recom...   \n",
       "1   10038785  2018-07-31  A system for recognizing processes performed b...   \n",
       "2   10051125  2018-08-14  Techniques for benchmarking performance in a c...   \n",
       "3   10057422  2018-08-21  Techniques for handling contacts and agents in...   \n",
       "4   10063705  2018-08-28  Systems and methods of routing calls may inclu...   \n",
       "\n",
       "                                               title  \\\n",
       "0  System and method for providing hiring recomme...   \n",
       "1  Methods and systems for automatically recogniz...   \n",
       "2  Selective mapping of callers in a call center ...   \n",
       "3  Selective mapping of callers in a call center ...   \n",
       "4  Systems and methods for selectively routing ca...   \n",
       "\n",
       "                                            cpc_list  \n",
       "0  ['G10L15', 'G10L17', 'H04M2201', 'H04M3', 'H04...  \n",
       "1  ['H04M2201', 'G06K9', 'H04M3', 'G06K2209', 'G1...  \n",
       "2                              ['H04M3', 'H04M2201']  \n",
       "3                              ['H04M3', 'H04M2201']  \n",
       "4                  ['H04M3', 'H04M2201', 'H04M2203']  "
      ]
     },
     "execution_count": 7,
     "metadata": {},
     "output_type": "execute_result"
    }
   ],
   "source": [
    "find_set.head()"
   ]
  },
  {
   "cell_type": "markdown",
   "metadata": {},
   "source": [
    "# 저장"
   ]
  },
  {
   "cell_type": "code",
   "execution_count": 8,
   "metadata": {},
   "outputs": [],
   "source": [
    "find_set.to_csv('./data/call center.csv')"
   ]
  },
  {
   "cell_type": "code",
   "execution_count": null,
   "metadata": {},
   "outputs": [],
   "source": []
  }
 ],
 "metadata": {
  "kernelspec": {
   "display_name": "Python 3",
   "language": "python",
   "name": "python3"
  },
  "language_info": {
   "codemirror_mode": {
    "name": "ipython",
    "version": 3
   },
   "file_extension": ".py",
   "mimetype": "text/x-python",
   "name": "python",
   "nbconvert_exporter": "python",
   "pygments_lexer": "ipython3",
   "version": "3.8.5"
  },
  "toc": {
   "base_numbering": 1,
   "nav_menu": {},
   "number_sections": true,
   "sideBar": true,
   "skip_h1_title": false,
   "title_cell": "Table of Contents",
   "title_sidebar": "Contents",
   "toc_cell": false,
   "toc_position": {},
   "toc_section_display": true,
   "toc_window_display": false
  },
  "varInspector": {
   "cols": {
    "lenName": 16,
    "lenType": 16,
    "lenVar": 40
   },
   "kernels_config": {
    "python": {
     "delete_cmd_postfix": "",
     "delete_cmd_prefix": "del ",
     "library": "var_list.py",
     "varRefreshCmd": "print(var_dic_list())"
    },
    "r": {
     "delete_cmd_postfix": ") ",
     "delete_cmd_prefix": "rm(",
     "library": "var_list.r",
     "varRefreshCmd": "cat(var_dic_list()) "
    }
   },
   "types_to_exclude": [
    "module",
    "function",
    "builtin_function_or_method",
    "instance",
    "_Feature"
   ],
   "window_display": false
  }
 },
 "nbformat": 4,
 "nbformat_minor": 4
}
